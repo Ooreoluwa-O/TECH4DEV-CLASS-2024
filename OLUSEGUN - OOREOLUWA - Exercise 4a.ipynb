{
 "cells": [
  {
   "cell_type": "code",
   "execution_count": 4,
   "id": "e775a47a",
   "metadata": {},
   "outputs": [
    {
     "name": "stdout",
     "output_type": "stream",
     "text": [
      "+ +\n",
      "\\ /\n",
      "/ \\\n",
      "\\ /\n",
      "/ \\\n",
      "\\ /\n",
      "/ \\\n",
      "+ +\n"
     ]
    }
   ],
   "source": [
    "print(\"+ +\")\n",
    "for i in range(3):\n",
    "    print(\"\\\\ /\")\n",
    "    print(\"/ \\\\\")\n",
    "print(\"+ +\")"
   ]
  },
  {
   "cell_type": "code",
   "execution_count": 5,
   "id": "efa0ec43",
   "metadata": {},
   "outputs": [
    {
     "name": "stdout",
     "output_type": "stream",
     "text": [
      "**********\n",
      "**********\n",
      "**********\n",
      "**********\n",
      "**********\n"
     ]
    }
   ],
   "source": [
    "num_rows = 5\n",
    "for i in range(num_rows):\n",
    "    print(\"*\" * 10)"
   ]
  },
  {
   "cell_type": "code",
   "execution_count": 10,
   "id": "e207e067",
   "metadata": {},
   "outputs": [
    {
     "name": "stdout",
     "output_type": "stream",
     "text": [
      "a) 1\tb) 2\tc) 14\td) 0\te) -3\tf) 91\tg) -4\n",
      "a) 2\tb) 4\tc) 29\td) 10\te) -5\tf) 94\tg) 14\n",
      "a) 3\tb) 6\tc) 44\td) 20\te) -7\tf) 97\tg) 32\n",
      "a) 4\tb) 8\tc) 59\td) 30\te) -9\tf) 100\tg) 50\n",
      "a) 5\tb) 10\tc) 74\td) 40\te) -11\tf) 103\tg) 68\n",
      "a) 6\tb) 12\tc) 89\td) 50\te) -13\tf) 106\tg) 86\n"
     ]
    }
   ],
   "source": [
    "for i in range(1, 7):\n",
    "    a = i\n",
    "    b = 2 * i\n",
    "    c = 15 * i - 1\n",
    "    d = 10 * i - 10\n",
    "    e = -2 * i - 1\n",
    "    f = 3 * i + 88\n",
    "    g = 18 * i - 22\n",
    "    print(f\"a) {a}\\tb) {b}\\tc) {c}\\td) {d}\\te) {e}\\tf) {f}\\tg) {g}\")\n"
   ]
  },
  {
   "cell_type": "code",
   "execution_count": 15,
   "id": "2013d709",
   "metadata": {},
   "outputs": [
    {
     "name": "stdout",
     "output_type": "stream",
     "text": [
      "1\n",
      "22\n",
      "333\n",
      "4444\n",
      "55555\n",
      "666666\n",
      "7777777\n"
     ]
    }
   ],
   "source": [
    "class PatternPrinter:\n",
    "    num_of_lines = 7\n",
    "\n",
    "    def print_pattern(self):\n",
    "        for i in range(1, self.num_of_lines + 1):\n",
    "            for j in range(i):\n",
    "                print(i, end=\"\")\n",
    "            print()\n",
    "printer = PatternPrinter()\n",
    "printer.print_pattern()\n"
   ]
  },
  {
   "cell_type": "code",
   "execution_count": 18,
   "id": "55cb8ab3",
   "metadata": {},
   "outputs": [
    {
     "name": "stdout",
     "output_type": "stream",
     "text": [
      "33.0\n",
      "50.0\n"
     ]
    }
   ],
   "source": [
    "def pay(salary, hours_worked):\n",
    "    normal_hours = 8\n",
    "    overtime_rate = 1.5\n",
    "\n",
    "    if hours_worked <= normal_hours:\n",
    "        # calculate normal pay for 8 hours or less\n",
    "        total_pay = salary * hours_worked\n",
    "    else:\n",
    "        # calculate overtime pay for > 8 hours\n",
    "        normal_pay = salary * normal_hours\n",
    "        overtime_pay = salary * overtime_rate * (hours_worked - normal_hours)\n",
    "        total_pay = normal_pay + overtime_pay\n",
    "\n",
    "    return total_pay\n",
    "\n",
    "# Example\n",
    "result = pay(5.50, 6)\n",
    "print(result) \n",
    "\n",
    "result_overtime = pay(4.00, 11)\n",
    "print(result_overtime)  "
   ]
  },
  {
   "cell_type": "code",
   "execution_count": 19,
   "id": "28af9891",
   "metadata": {},
   "outputs": [
    {
     "name": "stdout",
     "output_type": "stream",
     "text": [
      "12.566370614359172\n"
     ]
    }
   ],
   "source": [
    "import math\n",
    "\n",
    "def area(radius):\n",
    "    return math.pi * radius**2\n",
    "\n",
    "result = area(2.0)\n",
    "print(result)"
   ]
  }
 ],
 "metadata": {
  "kernelspec": {
   "display_name": "Python 3 (ipykernel)",
   "language": "python",
   "name": "python3"
  },
  "language_info": {
   "codemirror_mode": {
    "name": "ipython",
    "version": 3
   },
   "file_extension": ".py",
   "mimetype": "text/x-python",
   "name": "python",
   "nbconvert_exporter": "python",
   "pygments_lexer": "ipython3",
   "version": "3.11.5"
  }
 },
 "nbformat": 4,
 "nbformat_minor": 5
}
