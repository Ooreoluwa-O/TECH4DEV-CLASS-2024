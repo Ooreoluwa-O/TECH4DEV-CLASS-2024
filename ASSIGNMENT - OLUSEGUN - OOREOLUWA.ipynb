{
 "cells": [
  {
   "cell_type": "code",
   "execution_count": 2,
   "id": "6822e55c",
   "metadata": {},
   "outputs": [
    {
     "name": "stdout",
     "output_type": "stream",
     "text": [
      "['Tayo', 'Ade', 'Kemi', 'Bayo', 'Olaitan']\n"
     ]
    }
   ],
   "source": [
    "# LIST METHODS\n",
    "\n",
    "# 1. append()\n",
    "names = [\"Tayo\", \"Ade\", \"Kemi\", \"Bayo\"]\n",
    "names.append(\"Olaitan\")\n",
    "print(names)\n"
   ]
  },
  {
   "cell_type": "code",
   "execution_count": 8,
   "id": "f6fe4961",
   "metadata": {},
   "outputs": [
    {
     "name": "stdout",
     "output_type": "stream",
     "text": [
      "['Doctor', 'Lawyer', 'Teacher', 'Engineer', 'Student']\n"
     ]
    }
   ],
   "source": [
    "# 2. copy()\n",
    "\n",
    "roles = [\"Doctor\", \"Lawyer\", \"Teacher\", \"Engineer\", \"Student\"]\n",
    "copied_list = roles.copy()\n",
    "print(copied_list)"
   ]
  },
  {
   "cell_type": "code",
   "execution_count": 12,
   "id": "b400d4d4",
   "metadata": {},
   "outputs": [
    {
     "name": "stdout",
     "output_type": "stream",
     "text": [
      "None\n"
     ]
    }
   ],
   "source": [
    "# 3. clear()\n",
    "\n",
    "debt_in_naira = [10000, 1000, 500, 200, 300]\n",
    "cleared_debt = debt_in_naira.clear()\n",
    "print(cleared_debt)"
   ]
  },
  {
   "cell_type": "code",
   "execution_count": 20,
   "id": "c99e0be7",
   "metadata": {},
   "outputs": [
    {
     "name": "stdout",
     "output_type": "stream",
     "text": [
      "[1, 2, 3, 4, 5, 6, 9]\n"
     ]
    }
   ],
   "source": [
    "# 4. sort()\n",
    "\n",
    "my_list = [3, 2, 4, 1, 5, 9, 6]\n",
    "my_list.sort()\n",
    "print(my_list)"
   ]
  },
  {
   "cell_type": "code",
   "execution_count": 27,
   "id": "5fb0dfb5",
   "metadata": {},
   "outputs": [
    {
     "name": "stdout",
     "output_type": "stream",
     "text": [
      "2\n",
      "['apples', 'mango', 'orange', 'pineapple', 'pawpaw', 'grapes', 'apples']\n"
     ]
    }
   ],
   "source": [
    "# 5. count()\n",
    "\n",
    "fruits = [\"apples\", \"mango\", \"orange\", \"pineapple\", \"pawpaw\", \"grapes\", \"apples\"]\n",
    "count_of_apples = fruits.count(\"apples\")\n",
    "print(count_of_apples)\n",
    "print(fruits)"
   ]
  },
  {
   "cell_type": "code",
   "execution_count": 29,
   "id": "7bb6c6e5",
   "metadata": {},
   "outputs": [
    {
     "name": "stdout",
     "output_type": "stream",
     "text": [
      "[1, 3, 5, 2, 4, 6]\n"
     ]
    }
   ],
   "source": [
    "# 6. extend()\n",
    "\n",
    "list_1 = [1, 3, 5]\n",
    "list_2 = [2, 4, 6]\n",
    "list_1.extend(list_2)\n",
    "print(list_1)"
   ]
  },
  {
   "cell_type": "code",
   "execution_count": 32,
   "id": "df9ed89f",
   "metadata": {},
   "outputs": [
    {
     "name": "stdout",
     "output_type": "stream",
     "text": [
      "The count of Python in Tuple is: 3\n"
     ]
    }
   ],
   "source": [
    "# TUPLES\n",
    "# 1. count()\n",
    "\n",
    "Tuple = (\"skills\", \"python\", \"geek\", \"python\", \"for\", \"tech\", \"python\") \n",
    "new = Tuple.count(\"python\") \n",
    "print(\"The count of Python in Tuple is:\", new)"
   ]
  },
  {
   "cell_type": "code",
   "execution_count": 33,
   "id": "2d014f31",
   "metadata": {},
   "outputs": [
    {
     "name": "stdout",
     "output_type": "stream",
     "text": [
      "The first occurrence of 4 is 1\n"
     ]
    }
   ],
   "source": [
    "# 2. index()\n",
    "\n",
    "Tuple = (6, 4, 2, 3, 2, 3, 4, 3, 2) \n",
    "  \n",
    "new = Tuple.index(4) \n",
    "print(\"The first occurrence of 4 is\", new) "
   ]
  },
  {
   "cell_type": "code",
   "execution_count": 34,
   "id": "ba13e2ac",
   "metadata": {},
   "outputs": [
    {
     "name": "stdout",
     "output_type": "stream",
     "text": [
      "The length of my tuple is 4\n"
     ]
    }
   ],
   "source": [
    "# 3. len()\n",
    "\n",
    "my_tuple = (0, 1, 2, 3)\n",
    "length = len(my_tuple)\n",
    "print(\"The length of my tuple is\", length) "
   ]
  },
  {
   "cell_type": "code",
   "execution_count": 38,
   "id": "bb85d71b",
   "metadata": {},
   "outputs": [
    {
     "name": "stdout",
     "output_type": "stream",
     "text": [
      "My sorted tuple is (0, 1, 2, 3, 4, 5, 9)\n"
     ]
    }
   ],
   "source": [
    "# 4. sorted()\n",
    "\n",
    "Tuple = (3, 0, 4, 1, 5, 9, 2)\n",
    "sorted_tuple = tuple(sorted(Tuple))\n",
    "print(\"My sorted tuple is\", sorted_tuple)  "
   ]
  },
  {
   "cell_type": "code",
   "execution_count": 39,
   "id": "92754050",
   "metadata": {},
   "outputs": [
    {
     "name": "stdout",
     "output_type": "stream",
     "text": [
      "The maximum Tuple is 60\n"
     ]
    }
   ],
   "source": [
    "# 5. max()\n",
    "\n",
    "Tuple = ( 10, 30, 40, 20, 50, 60 ) \n",
    "   \n",
    "new = max(Tuple) \n",
    "print(\"The maximum Tuple is\", new) "
   ]
  },
  {
   "cell_type": "code",
   "execution_count": 40,
   "id": "3744eb42",
   "metadata": {},
   "outputs": [
    {
     "name": "stdout",
     "output_type": "stream",
     "text": [
      "The minimum Tuple is 10\n"
     ]
    }
   ],
   "source": [
    "# 6. min()\n",
    "\n",
    "Tuple = ( 10, 30, 40, 20, 50, 60 ) \n",
    "   \n",
    "new = min(Tuple) \n",
    "print(\"The minimum Tuple is\", new) "
   ]
  },
  {
   "cell_type": "code",
   "execution_count": 42,
   "id": "21f7213c",
   "metadata": {},
   "outputs": [
    {
     "name": "stdout",
     "output_type": "stream",
     "text": [
      "The dictionary keys are dict_keys(['a', 'b', 'c'])\n"
     ]
    }
   ],
   "source": [
    "# Dictionaries\n",
    "# 1. keys()\n",
    "\n",
    "my_dict = {'a': 1, 'b': 2, 'c': 3}\n",
    "keys = my_dict.keys()\n",
    "print(\"The dictionary keys are\", keys)"
   ]
  },
  {
   "cell_type": "code",
   "execution_count": 43,
   "id": "cbf7ad9f",
   "metadata": {},
   "outputs": [
    {
     "name": "stdout",
     "output_type": "stream",
     "text": [
      "Items in the dictionary are dict_items([('a', 1), ('b', 2), ('c', 3)])\n"
     ]
    }
   ],
   "source": [
    "# 2. items()\n",
    "\n",
    "my_dict = {'a': 1, 'b': 2, 'c': 3}\n",
    "items = my_dict.items()\n",
    "print(\"Items in the dictionary are\", items) "
   ]
  },
  {
   "cell_type": "code",
   "execution_count": 45,
   "id": "93b646f0",
   "metadata": {},
   "outputs": [
    {
     "name": "stdout",
     "output_type": "stream",
     "text": [
      "The value is 2\n"
     ]
    }
   ],
   "source": [
    "# 3. get()\n",
    "\n",
    "my_dict = {'a': 1, 'b': 2, 'c': 3}\n",
    "value = my_dict.get('b', 0)\n",
    "print(\"The value is\", value) "
   ]
  },
  {
   "cell_type": "code",
   "execution_count": 47,
   "id": "0e98e82a",
   "metadata": {},
   "outputs": [
    {
     "name": "stdout",
     "output_type": "stream",
     "text": [
      "The popped values are {'a': 1, 'c': 3} 2\n"
     ]
    }
   ],
   "source": [
    "# 4. pop()\n",
    "\n",
    "my_dict = {'a': 1, 'b': 2, 'c': 3}\n",
    "popped_value = my_dict.pop('b')\n",
    "print(\"The popped values are\", my_dict, popped_value)"
   ]
  },
  {
   "cell_type": "code",
   "execution_count": 51,
   "id": "b2603937",
   "metadata": {},
   "outputs": [
    {
     "name": "stdout",
     "output_type": "stream",
     "text": [
      "The updated dictionary {'a': 1, 'b': 3, 'c': 4}\n"
     ]
    }
   ],
   "source": [
    "# 5. update()\n",
    "\n",
    "dict1 = {'a': 1, 'b': 2}\n",
    "dict2 = {'b': 3, 'c': 4}\n",
    "dict1.update(dict2)\n",
    "print(\"The updated dictionary\", dict1)"
   ]
  },
  {
   "cell_type": "code",
   "execution_count": 53,
   "id": "f301bee4",
   "metadata": {},
   "outputs": [
    {
     "name": "stdout",
     "output_type": "stream",
     "text": [
      "The values in the dictionary are dict_values([1, 2, 3])\n"
     ]
    }
   ],
   "source": [
    "# 6. values()\n",
    "\n",
    "my_dict = {'a': 1, 'b': 2, 'c': 3}\n",
    "values = my_dict.values()\n",
    "print(\"The values in the dictionary are\", values)"
   ]
  },
  {
   "cell_type": "code",
   "execution_count": 55,
   "id": "916155fe",
   "metadata": {},
   "outputs": [
    {
     "name": "stdout",
     "output_type": "stream",
     "text": [
      "The sum of numbers are 15\n"
     ]
    }
   ],
   "source": [
    "# methods\n",
    "# 1. sum()\n",
    "\n",
    "numbers = [1, 2, 3, 4, 5]\n",
    "sum_result = sum(numbers)\n",
    "print(\"The sum of numbers are\", sum_result) "
   ]
  },
  {
   "cell_type": "code",
   "execution_count": 56,
   "id": "cd7b4258",
   "metadata": {},
   "outputs": [
    {
     "name": "stdout",
     "output_type": "stream",
     "text": [
      "The new list is [1, 2, 3, 4]\n"
     ]
    }
   ],
   "source": [
    "# 2. append()\n",
    "\n",
    "numbers = [1, 2, 3]\n",
    "numbers.append(4)\n",
    "print(\"The new list is\", numbers)"
   ]
  },
  {
   "cell_type": "code",
   "execution_count": 57,
   "id": "cb9f5a96",
   "metadata": {},
   "outputs": [
    {
     "name": "stdout",
     "output_type": "stream",
     "text": [
      "The new text is Hello, Python!\n"
     ]
    }
   ],
   "source": [
    "# 3. replace()\n",
    "\n",
    "text = \"Hello, World!\"\n",
    "new_text = text.replace(\"World\", \"Python\")\n",
    "print(\"The new text is\", new_text)"
   ]
  },
  {
   "cell_type": "code",
   "execution_count": null,
   "id": "ecb7c080",
   "metadata": {},
   "outputs": [],
   "source": []
  }
 ],
 "metadata": {
  "kernelspec": {
   "display_name": "Python 3 (ipykernel)",
   "language": "python",
   "name": "python3"
  },
  "language_info": {
   "codemirror_mode": {
    "name": "ipython",
    "version": 3
   },
   "file_extension": ".py",
   "mimetype": "text/x-python",
   "name": "python",
   "nbconvert_exporter": "python",
   "pygments_lexer": "ipython3",
   "version": "3.11.5"
  }
 },
 "nbformat": 4,
 "nbformat_minor": 5
}
