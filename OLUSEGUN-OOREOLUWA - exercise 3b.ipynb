{
 "cells": [
  {
   "cell_type": "code",
   "execution_count": 2,
   "id": "92f5b99b",
   "metadata": {},
   "outputs": [
    {
     "name": "stdout",
     "output_type": "stream",
     "text": [
      "The last index of 85 is 5\n"
     ]
    }
   ],
   "source": [
    "def find_last_index(lst, value):\n",
    "    last_index = -1\n",
    "\n",
    "    for i in range(len(lst) - 1, -1, -1):\n",
    "        if lst[i] == value:\n",
    "            last_index = i\n",
    "            break\n",
    "\n",
    "    print(f\"The last index of {value} is {last_index}\")\n",
    "\n",
    "\n",
    "input_list = [74, 85, 102, 99, 101, 85, 56]\n",
    "value_to_find = 85\n",
    "\n",
    "find_last_index(input_list, value_to_find)"
   ]
  },
  {
   "cell_type": "code",
   "execution_count": 3,
   "id": "fd1ca637",
   "metadata": {},
   "outputs": [
    {
     "name": "stdout",
     "output_type": "stream",
     "text": [
      "The range of values in the list is 35.\n"
     ]
    }
   ],
   "source": [
    "def calculate_range(lst):\n",
    "    min_value = min(lst)\n",
    "    max_value = max(lst)\n",
    "\n",
    "    value_range = max_value - min_value + 1\n",
    "\n",
    "    return value_range\n",
    "\n",
    "input_list = [36, 12, 25, 19, 46, 31, 22]\n",
    "\n",
    "result = calculate_range(input_list)\n",
    "\n",
    "print(f\"The range of values in the list is {result}.\")"
   ]
  },
  {
   "cell_type": "code",
   "execution_count": 4,
   "id": "b014808f",
   "metadata": {},
   "outputs": [
    {
     "name": "stdout",
     "output_type": "stream",
     "text": [
      "There are 4 elements between 4 and 17 in the list.\n"
     ]
    }
   ],
   "source": [
    "def count_elements_in_range(lst, min_value, max_value):\n",
    "    elements_in_range = [element for element in lst if min_value <= element <= max_value]\n",
    "    print(f\"There are {len(elements_in_range)} elements between {min_value} and {max_value} in the list.\")\n",
    "\n",
    "input_list = [14, 1, 22, 17, 36, 7, -43, 5]\n",
    "min_value = 4\n",
    "max_value = 17\n",
    "\n",
    "count_elements_in_range(input_list, min_value, max_value)"
   ]
  },
  {
   "cell_type": "code",
   "execution_count": 5,
   "id": "1c40b5aa",
   "metadata": {},
   "outputs": [
    {
     "name": "stdout",
     "output_type": "stream",
     "text": [
      "Is list1 sorted? False\n",
      "Is list2 sorted? True\n"
     ]
    }
   ],
   "source": [
    "def is_sorted(lst):\n",
    "    return all(lst[i] <= lst[i + 1] for i in range(len(lst) - 1))\n",
    "\n",
    "list1 = [16.1, 12.3, 22.2, 14.4]\n",
    "list2 = [1.5, 4.3, 7.0, 19.5, 25.1, 46.2]\n",
    "\n",
    "result1 = is_sorted(list1)\n",
    "result2 = is_sorted(list2)\n",
    "\n",
    "print(f\"Is list1 sorted? {result1}\")\n",
    "print(f\"Is list2 sorted? {result2}\")"
   ]
  },
  {
   "cell_type": "code",
   "execution_count": 6,
   "id": "230a75d7",
   "metadata": {},
   "outputs": [
    {
     "name": "stdout",
     "output_type": "stream",
     "text": [
      "Enter the first index to swap: 0\n",
      "Enter the second index to swap: 3\n",
      "List after swapping: [4, 2, 3, 1, 5]\n"
     ]
    }
   ],
   "source": [
    "def swap_elements(lst, index1, index2):\n",
    "    if 0 <= index1 < len(lst) and 0 <= index2 < len(lst):\n",
    "        lst[index1], lst[index2] = lst[index2], lst[index1]\n",
    "        return lst\n",
    "    else:\n",
    "        print(\"Invalid indices. Please enter valid indices within the range of the list.\")\n",
    "        return None\n",
    "\n",
    "\n",
    "try:\n",
    "    input_list = [1, 2, 3, 4, 5]\n",
    "    index_to_swap1 = int(input(\"Enter the first index to swap: \"))\n",
    "    index_to_swap2 = int(input(\"Enter the second index to swap: \"))\n",
    "\n",
    "    result = swap_elements(input_list, index_to_swap1, index_to_swap2)\n",
    "\n",
    "    if result is not None:\n",
    "        print(\"List after swapping:\", result)\n",
    "except ValueError:\n",
    "    print(\"Invalid input. Please enter integer values for indices.\")"
   ]
  },
  {
   "cell_type": "code",
   "execution_count": null,
   "id": "6748f48f",
   "metadata": {},
   "outputs": [],
   "source": []
  }
 ],
 "metadata": {
  "kernelspec": {
   "display_name": "Python 3 (ipykernel)",
   "language": "python",
   "name": "python3"
  },
  "language_info": {
   "codemirror_mode": {
    "name": "ipython",
    "version": 3
   },
   "file_extension": ".py",
   "mimetype": "text/x-python",
   "name": "python",
   "nbconvert_exporter": "python",
   "pygments_lexer": "ipython3",
   "version": "3.11.5"
  }
 },
 "nbformat": 4,
 "nbformat_minor": 5
}
