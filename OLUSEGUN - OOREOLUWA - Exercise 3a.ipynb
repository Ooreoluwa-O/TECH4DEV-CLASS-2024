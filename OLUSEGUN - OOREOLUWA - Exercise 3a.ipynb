{
 "cells": [
  {
   "cell_type": "code",
   "execution_count": 4,
   "id": "ed69315d",
   "metadata": {},
   "outputs": [],
   "source": [
    "my_list= [ 2, 4, 7, 4, 23, 5, 1, 4, 8, 9]"
   ]
  },
  {
   "cell_type": "code",
   "execution_count": 11,
   "id": "1fbc8db0",
   "metadata": {},
   "outputs": [],
   "source": [
    "max_value= max(my_list)"
   ]
  },
  {
   "cell_type": "code",
   "execution_count": 15,
   "id": "41a6f799",
   "metadata": {},
   "outputs": [
    {
     "name": "stdout",
     "output_type": "stream",
     "text": [
      "Maximum value of given list is: 23\n"
     ]
    }
   ],
   "source": [
    "print(\"Maximum value of given list is:\", max_value)"
   ]
  },
  {
   "cell_type": "code",
   "execution_count": 16,
   "id": "66ed74e7",
   "metadata": {},
   "outputs": [],
   "source": [
    "my_list= [4, 7, 1, 5, 11, 53, 12, 46, 84, 23]"
   ]
  },
  {
   "cell_type": "code",
   "execution_count": 17,
   "id": "9a433820",
   "metadata": {},
   "outputs": [],
   "source": [
    "average_value= sum(my_list)/len(my_list)"
   ]
  },
  {
   "cell_type": "code",
   "execution_count": 18,
   "id": "8df13b63",
   "metadata": {},
   "outputs": [
    {
     "name": "stdout",
     "output_type": "stream",
     "text": [
      "The average value of given list is: 24.6\n"
     ]
    }
   ],
   "source": [
    "print(\"The average value of given list is:\", average_value)"
   ]
  },
  {
   "cell_type": "code",
   "execution_count": 19,
   "id": "db0e37e9",
   "metadata": {},
   "outputs": [],
   "source": [
    "my_list= [2, 6, 7, 45, 23, 53, 14, 45, 89, 5]"
   ]
  },
  {
   "cell_type": "code",
   "execution_count": 24,
   "id": "c7ffae63",
   "metadata": {},
   "outputs": [],
   "source": [
    "my_reverse_list= my_list[ ::-1]"
   ]
  },
  {
   "cell_type": "code",
   "execution_count": 25,
   "id": "eec3ac9f",
   "metadata": {},
   "outputs": [
    {
     "name": "stdout",
     "output_type": "stream",
     "text": [
      "The reverse order is: [5, 89, 45, 14, 53, 23, 45, 7, 6, 2]\n"
     ]
    }
   ],
   "source": [
    "print(\"The reverse order is:\", my_reverse_list)"
   ]
  },
  {
   "cell_type": "code",
   "execution_count": 61,
   "id": "9ab4807e",
   "metadata": {
    "scrolled": true
   },
   "outputs": [],
   "source": [
    "list_1= [2, 4, 6, 12, 10]\n",
    "list_2= [3, 5, 7, 13, 11, 15]\n"
   ]
  },
  {
   "cell_type": "code",
   "execution_count": 65,
   "id": "2b98f742",
   "metadata": {},
   "outputs": [],
   "source": [
    "def compare_lists(list_1, list_2):\n",
    "    if len(list_1) != len(list_2):\n",
    "        return False\n",
    "    else:\n",
    "        return True"
   ]
  },
  {
   "cell_type": "code",
   "execution_count": 66,
   "id": "0d2fc2fd",
   "metadata": {},
   "outputs": [],
   "source": [
    "result= compare_lists(list_1, list_2)"
   ]
  },
  {
   "cell_type": "code",
   "execution_count": 67,
   "id": "c970f521",
   "metadata": {},
   "outputs": [
    {
     "name": "stdout",
     "output_type": "stream",
     "text": [
      "False\n"
     ]
    }
   ],
   "source": [
    "print(result)"
   ]
  },
  {
   "cell_type": "code",
   "execution_count": 77,
   "id": "e1de5f4d",
   "metadata": {},
   "outputs": [
    {
     "name": "stdout",
     "output_type": "stream",
     "text": [
      "True\n"
     ]
    }
   ],
   "source": [
    "def compare_lists(list_1, list_2):\n",
    "    for i in range(len(list_1)):\n",
    "        if list_1[i] <= list_2[i]:\n",
    "            return True;\n",
    "        else:\n",
    "            return False\n",
    "        \n",
    "result= compare_lists(list_1, list_2)\n",
    "print(result)"
   ]
  },
  {
   "cell_type": "raw",
   "id": "5d8831a5",
   "metadata": {},
   "source": []
  },
  {
   "cell_type": "code",
   "execution_count": null,
   "id": "6217d388",
   "metadata": {},
   "outputs": [],
   "source": []
  },
  {
   "cell_type": "code",
   "execution_count": null,
   "id": "2c3599ea",
   "metadata": {},
   "outputs": [],
   "source": [
    "list_1= [3, 1, 7, 6, 0]\n",
    "list_2= [4, 8, 9, 5, 2]\n",
    "\n",
    "new_list= list_1 + list_2\n",
    "print(new_list) "
   ]
  }
 ],
 "metadata": {
  "kernelspec": {
   "display_name": "Python 3 (ipykernel)",
   "language": "python",
   "name": "python3"
  },
  "language_info": {
   "codemirror_mode": {
    "name": "ipython",
    "version": 3
   },
   "file_extension": ".py",
   "mimetype": "text/x-python",
   "name": "python",
   "nbconvert_exporter": "python",
   "pygments_lexer": "ipython3",
   "version": "3.11.5"
  }
 },
 "nbformat": 4,
 "nbformat_minor": 5
}
