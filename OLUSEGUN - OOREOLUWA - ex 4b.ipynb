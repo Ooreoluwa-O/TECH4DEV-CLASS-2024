{
 "cells": [
  {
   "cell_type": "code",
   "execution_count": 1,
   "id": "3bb519f1",
   "metadata": {},
   "outputs": [
    {
     "name": "stdout",
     "output_type": "stream",
     "text": [
      "low? 300\n",
      "high? 5298\n",
      "sum = 13986903\n"
     ]
    }
   ],
   "source": [
    "low = int(input(\"low? \"))\n",
    "high = int(input(\"high? \"))\n",
    "sum_result = 0\n",
    "\n",
    "for i in range(low, high):\n",
    "    sum_result += i\n",
    "\n",
    "print(\"sum =\", sum_result)"
   ]
  },
  {
   "cell_type": "code",
   "execution_count": 3,
   "id": "66d70cde",
   "metadata": {},
   "outputs": [
    {
     "name": "stdout",
     "output_type": "stream",
     "text": [
      "Enter a number (type 0 to finish): 3500\n",
      "Enter a number (type 0 to finish): 2300\n",
      "Enter a number (type 0 to finish): 0\n",
      "Sum of the entered numbers: 5800.0\n"
     ]
    }
   ],
   "source": [
    "sum_of_numbers = 0\n",
    "\n",
    "while True:\n",
    "    input_from_user = float(input(\"Enter a number (type 0 to finish): \"))\n",
    "    if input_from_user == 0:\n",
    "        break\n",
    "    sum_of_numbers += input_from_user\n",
    "print(\"Sum of the entered numbers:\", sum_of_numbers)"
   ]
  },
  {
   "cell_type": "code",
   "execution_count": 4,
   "id": "467c7f4f",
   "metadata": {},
   "outputs": [
    {
     "name": "stdout",
     "output_type": "stream",
     "text": [
      "Enter a number (type -1 to finish): 500\n",
      "Enter a number (type -1 to finish): 900\n",
      "Enter a number (type -1 to finish): -1\n",
      "Sum of entered numbers: 1400.0\n"
     ]
    }
   ],
   "source": [
    "sum_of_numbers = 0\n",
    "while True:\n",
    "    input_from_user = float(input(\"Enter a number (type -1 to finish): \"))\n",
    "    \n",
    "    if input_from_user == -1:\n",
    "        break\n",
    "    sum_of_numbers += input_from_user\n",
    "print(\"Sum of entered numbers:\", sum_of_numbers)\n"
   ]
  },
  {
   "cell_type": "code",
   "execution_count": 5,
   "id": "551d0140",
   "metadata": {},
   "outputs": [
    {
     "name": "stdout",
     "output_type": "stream",
     "text": [
      "hellohellohello\n",
      "\n",
      "\n"
     ]
    }
   ],
   "source": [
    "def repl(s, repetitions):\n",
    "    if repetitions <= 0:\n",
    "        return \"\"\n",
    "    else:\n",
    "        return s * repetitions\n",
    "\n",
    "\n",
    "result = repl(\"hello\", 3)\n",
    "print(result) \n",
    "\n",
    "result_zero_repetitions = repl(\"example\", 0)\n",
    "result_negative_repetitions = repl(\"world\", -2)\n",
    "\n",
    "print(result_zero_repetitions)  \n",
    "print(result_negative_repetitions)  \n"
   ]
  },
  {
   "cell_type": "code",
   "execution_count": 6,
   "id": "6e3bbe1f",
   "metadata": {},
   "outputs": [
    {
     "name": "stdout",
     "output_type": "stream",
     "text": [
      "2 3 4 5 6 7 19 18 17 16 15 14 13 12 11 5\n"
     ]
    }
   ],
   "source": [
    "def printRange(start, end):\n",
    "    if start < end:\n",
    "        for i in range(start, end + 1):\n",
    "            print(i, end=\" \")\n",
    "    elif start > end:\n",
    "        for i in range(start, end - 1, -1):\n",
    "            print(i, end=\" \")\n",
    "    else:\n",
    "        print(start)\n",
    "\n",
    "printRange(2, 7)\n",
    "printRange(19, 11)\n",
    "printRange(5, 5)\n"
   ]
  },
  {
   "cell_type": "code",
   "execution_count": 7,
   "id": "d53a2406",
   "metadata": {
    "scrolled": true
   },
   "outputs": [
    {
     "name": "stdout",
     "output_type": "stream",
     "text": [
      "How many numbers do you want to enter? 2\n",
      "Number 1: 3\n",
      "Number 2: 5\n",
      "\n",
      "Smallest = 3.0\n",
      "Largest = 5.0\n"
     ]
    }
   ],
   "source": [
    "def smallestLargest():\n",
    "    num_of_numbers = int(input(\"How many numbers do you want to enter? \"))\n",
    "    \n",
    "    smallest = float('inf')  \n",
    "    largest = float('-inf')  \n",
    "    \n",
    "    for i in range(1, num_of_numbers + 1):\n",
    "        number = float(input(f\"Number {i}: \"))\n",
    "        smallest = min(smallest, number)\n",
    "        largest = max(largest, number)\n",
    "    \n",
    "    print(f\"\\nSmallest = {smallest}\\nLargest = {largest}\")\n",
    "\n",
    "smallestLargest()"
   ]
  },
  {
   "cell_type": "code",
   "execution_count": 8,
   "id": "1272dc18",
   "metadata": {},
   "outputs": [
    {
     "name": "stdout",
     "output_type": "stream",
     "text": [
      "Type a number: 4\n",
      "Type a number: 8\n",
      "Type a number: 7\n",
      "Type a number: 9\n",
      "Type a number: 23\n",
      "Type a number: -1\n",
      "Average was 10.2\n"
     ]
    }
   ],
   "source": [
    "def printAverage():\n",
    "    total = 0\n",
    "    count = 0\n",
    "    \n",
    "    while True:\n",
    "        number = float(input(\"Type a number: \"))\n",
    "        if number < 0:\n",
    "            break\n",
    "        total += number\n",
    "        count += 1\n",
    "    \n",
    "    if count > 0:\n",
    "        average = total / count\n",
    "        print(f\"Average was {average:.1f}\")\n",
    "    else:\n",
    "        print(\"No nonnegative numbers entered.\")\n",
    "printAverage()"
   ]
  },
  {
   "cell_type": "code",
   "execution_count": 21,
   "id": "c1c39274",
   "metadata": {},
   "outputs": [
    {
     "name": "stdout",
     "output_type": "stream",
     "text": [
      "2 + 1 = 3\n",
      "3 + 2 = 5\n",
      "2 + 3 = 5\n",
      "6 + 3 = 9\n",
      "3 + 4 = 7\n",
      "You won after 5 tries!\n"
     ]
    }
   ],
   "source": [
    "import random\n",
    "\n",
    "def roll_dice():\n",
    "    return random.randint(1, 6)\n",
    "\n",
    "def simulate_dice_rolling():\n",
    "    tries = 0\n",
    "\n",
    "    while True:\n",
    "        die_1 = roll_dice()\n",
    "        die_2 = roll_dice()\n",
    "\n",
    "        print(f\"{die_1} + {die_2} = {die_1 + die_2}\")\n",
    "\n",
    "        if die_1 + die_2 == 7:\n",
    "            print(f\"You won after {tries + 1} tries!\")\n",
    "            break\n",
    "\n",
    "        tries += 1\n",
    "\n",
    "\n",
    "simulate_dice_rolling()"
   ]
  },
  {
   "cell_type": "code",
   "execution_count": 20,
   "id": "3e28d47d",
   "metadata": {},
   "outputs": [
    {
     "name": "stdout",
     "output_type": "stream",
     "text": [
      "3\n",
      "2\n"
     ]
    }
   ],
   "source": [
    "def numUnique(f, g, h):\n",
    "    unique_numbers = set([f, g, h])\n",
    "    return len(unique_numbers)\n",
    "\n",
    "# Example calls:\n",
    "result_1 = numUnique(18, 3, 4)\n",
    "result_2 = numUnique(6, 7, 6)\n",
    "\n",
    "print(result_1)  \n",
    "print(result_2)  \n"
   ]
  },
  {
   "cell_type": "code",
   "execution_count": null,
   "id": "b7bb47e6",
   "metadata": {},
   "outputs": [],
   "source": []
  }
 ],
 "metadata": {
  "kernelspec": {
   "display_name": "Python 3 (ipykernel)",
   "language": "python",
   "name": "python3"
  },
  "language_info": {
   "codemirror_mode": {
    "name": "ipython",
    "version": 3
   },
   "file_extension": ".py",
   "mimetype": "text/x-python",
   "name": "python",
   "nbconvert_exporter": "python",
   "pygments_lexer": "ipython3",
   "version": "3.11.5"
  }
 },
 "nbformat": 4,
 "nbformat_minor": 5
}
